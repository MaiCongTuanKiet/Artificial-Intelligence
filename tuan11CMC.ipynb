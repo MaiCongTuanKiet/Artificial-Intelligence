{
  "nbformat": 4,
  "nbformat_minor": 0,
  "metadata": {
    "colab": {
      "provenance": [],
      "mount_file_id": "1lZPvl8qITMpXLoC6r_10KgkI_91SY8hw",
      "authorship_tag": "ABX9TyP293rUCnUutgzsv48OhtpD",
      "include_colab_link": true
    },
    "kernelspec": {
      "name": "python3",
      "display_name": "Python 3"
    },
    "language_info": {
      "name": "python"
    }
  },
  "cells": [
    {
      "cell_type": "markdown",
      "metadata": {
        "id": "view-in-github",
        "colab_type": "text"
      },
      "source": [
        "<a href=\"https://colab.research.google.com/github/MaiCongTuanKiet/Artificial-Intelligence/blob/main/tuan11CMC.ipynb\" target=\"_parent\"><img src=\"https://colab.research.google.com/assets/colab-badge.svg\" alt=\"Open In Colab\"/></a>"
      ]
    },
    {
      "cell_type": "code",
      "execution_count": 2,
      "metadata": {
        "colab": {
          "base_uri": "https://localhost:8080/"
        },
        "id": "r0RoOnLr3xky",
        "outputId": "d636fc41-1831-4e7e-c1f4-46b776411d87"
      },
      "outputs": [
        {
          "output_type": "stream",
          "name": "stdout",
          "text": [
            "Downloading data from https://storage.googleapis.com/tensorflow/tf-keras-datasets/train-labels-idx1-ubyte.gz\n",
            "29515/29515 [==============================] - 0s 0us/step\n",
            "Downloading data from https://storage.googleapis.com/tensorflow/tf-keras-datasets/train-images-idx3-ubyte.gz\n",
            "26421880/26421880 [==============================] - 0s 0us/step\n",
            "Downloading data from https://storage.googleapis.com/tensorflow/tf-keras-datasets/t10k-labels-idx1-ubyte.gz\n",
            "5148/5148 [==============================] - 0s 0us/step\n",
            "Downloading data from https://storage.googleapis.com/tensorflow/tf-keras-datasets/t10k-images-idx3-ubyte.gz\n",
            "4422102/4422102 [==============================] - 0s 0us/step\n"
          ]
        }
      ],
      "source": [
        "from keras.datasets import fashion_mnist\n",
        "\n",
        "(train_X, train_Y), (test_X, test_Y) = fashion_mnist.load_data()\n"
      ]
    },
    {
      "cell_type": "code",
      "source": [
        "print(train_X.shape)\n",
        "print(train_Y.shape)\n",
        "print(test_X.shape)\n",
        "print(test_Y.shape)"
      ],
      "metadata": {
        "colab": {
          "base_uri": "https://localhost:8080/"
        },
        "id": "_wWqjFyI4dMT",
        "outputId": "cd301349-5f31-4c65-c9ae-543b0bd93471"
      },
      "execution_count": 4,
      "outputs": [
        {
          "output_type": "stream",
          "name": "stdout",
          "text": [
            "(60000, 28, 28)\n",
            "(60000,)\n",
            "(10000, 28, 28)\n",
            "(10000,)\n"
          ]
        }
      ]
    },
    {
      "cell_type": "code",
      "source": [
        "import matplotlib.pyplot as plt\n",
        "\n",
        "plt.figure(figsize = [10,10])\n",
        "plt.subplot(121) #tuong duong (1,2,1)\n",
        "plt.imshow(train_X[0], cmap = 'gray')\n",
        "plt.title('So :{}'.format(train_Y[0]))\n",
        "\n",
        "plt.subplot(122) #tuong duong (1,2,2)\n",
        "plt.imshow(train_X[100], cmap = 'gray')\n",
        "plt.title('So :{}'.format(train_Y[100]))"
      ],
      "metadata": {
        "colab": {
          "base_uri": "https://localhost:8080/",
          "height": 452
        },
        "id": "s-8zgwtH5Yuq",
        "outputId": "773c164b-8082-40d9-a346-008038248fa8"
      },
      "execution_count": 5,
      "outputs": [
        {
          "output_type": "execute_result",
          "data": {
            "text/plain": [
              "Text(0.5, 1.0, 'So :8')"
            ]
          },
          "metadata": {},
          "execution_count": 5
        },
        {
          "output_type": "display_data",
          "data": {
            "text/plain": [
              "<Figure size 1000x1000 with 2 Axes>"
            ],
            "image/png": "[encoded data removed]"
          },
          "metadata": {}
        }
      ]
    },
    {
      "cell_type": "code",
      "source": [
        "#reshape\n",
        "train_X = train_X.reshape(60000, 28, 28, 1) # 1 la 1 kenh\n",
        "test_X = test_X.reshape(10000, 28, 28, 1)\n",
        "\n",
        "print(train_X.shape)\n",
        "print(test_X.shape)\n",
        "\n",
        "train_X = train_X.astype('float32')\n",
        "train_X = train_X/255"
      ],
      "metadata": {
        "colab": {
          "base_uri": "https://localhost:8080/"
        },
        "id": "lDmVlKn47dMs",
        "outputId": "64540028-97e7-4f53-9605-fb5490422ea1"
      },
      "execution_count": 7,
      "outputs": [
        {
          "output_type": "stream",
          "name": "stdout",
          "text": [
            "(60000, 28, 28, 1)\n",
            "(10000, 28, 28, 1)\n"
          ]
        }
      ]
    },
    {
      "cell_type": "code",
      "source": [
        "from keras.utils import to_categorical #chuyen 1 vector sang 1 mang binary\n",
        "\n",
        "train_Y = to_categorical(train_Y)\n",
        "test_Y = to_categorical(test_Y)"
      ],
      "metadata": {
        "id": "LTknoRRh7iBk"
      },
      "execution_count": 9,
      "outputs": []
    },
    {
      "cell_type": "code",
      "source": [
        "#Tao mo hinh\n",
        "from keras.models import Sequential, Model\n",
        "from keras import Input\n",
        "from keras.layers import Dense, Flatten, Dropout, Conv2D, MaxPooling2D, Normalization\n",
        "from keras.optimizers import Adam\n",
        "\n",
        "batch_size = 64 #lo^ hoc\n",
        "epochs = 20\n",
        "classes = 10 #phan ra 10 loai (lop)"
      ],
      "metadata": {
        "id": "kCVvZl5g9Nd3"
      },
      "execution_count": 11,
      "outputs": []
    },
    {
      "cell_type": "code",
      "source": [
        "from keras.layers.attention.multi_head_attention import activation\n",
        "from keras.layers import Conv2D\n",
        "from keras.models import Sequential\n",
        "\n",
        "model = Sequential()\n",
        "model.add(Conv2D(32, kernel_size=(3,3), activation='linear', input_shape=(28,28,1), padding='same'))\n"
      ],
      "metadata": {
        "id": "TfrHhVhd-3WR"
      },
      "execution_count": 15,
      "outputs": []
    },
    {
      "cell_type": "code",
      "source": [
        "from keras.layers import Conv2D, MaxPooling2D, LeakyReLU\n",
        "from keras.models import Sequential\n",
        "\n",
        "model = Sequential()\n",
        "\n",
        "#Bo 32\n",
        "model.add((Conv2D(32, kernel_size = (3,3), activation = 'linear', input_shape = (28, 28, 1), padding = 'same'))) #32 so lan tich chap, bo filter 3,3, padding same la tich chap xong kich thuoc van nhu ban dau\n",
        "model.add(LeakyReLU(alpha = 0.1)) #layer 1 (lop tich chap)\n",
        "model.add(MaxPooling2D((2,2), padding = 'same')) #layer 2 (maxpooling)\n",
        "\n",
        "#Bo 64\n",
        "model.add(Conv2D(64, (3,3), activation = 'linear', padding = 'same'))\n",
        "model.add(LeakyReLU(alpha = 0.1))\n",
        "model.add(MaxPooling2D((2,2), padding = 'same'))\n",
        "\n",
        "#Bo 128\n",
        "model.add(Conv2D(128, (3,3), activation = 'linear', padding = 'same'))\n",
        "model.add(LeakyReLU(alpha = 0.1))\n",
        "model.add(MaxPooling2D((2,2), padding = 'same'))\n"
      ],
      "metadata": {
        "id": "XhPfjrcSC7E_"
      },
      "execution_count": 21,
      "outputs": []
    },
    {
      "cell_type": "code",
      "source": [
        "from keras.backend import categorical_crossentropy\n",
        "#Dua vao ANN\n",
        "model.add(Flatten()) #tấm ảnh phẳng\n",
        "model.add(Dense(128, activation = 'linear')) #lớp ẩn có 128 lớp\n",
        "model.add(LeakyReLU(alpha = 0.1))\n",
        "model.add(Dense(classes, activation = 'softmax')) #output ra 10 lớp (classes = 10 ở trên)"
      ],
      "metadata": {
        "id": "HO3tSs1NDABe"
      },
      "execution_count": 22,
      "outputs": []
    },
    {
      "cell_type": "code",
      "source": [
        "from keras.losses import categorical_crossentropy\n",
        "\n",
        "model.compile(loss = categorical_crossentropy, optimizer = Adam(), metrics = ['accuracy'])\n",
        "model.summary()"
      ],
      "metadata": {
        "colab": {
          "base_uri": "https://localhost:8080/"
        },
        "id": "-sjLoGreDH0j",
        "outputId": "0bd91b64-1f9f-4ccb-8d6f-ea5a49f20b79"
      },
      "execution_count": 23,
      "outputs": [
        {
          "output_type": "stream",
          "name": "stdout",
          "text": [
            "Model: \"sequential_6\"\n",
            "_________________________________________________________________\n",
            " Layer (type)                Output Shape              Param #   \n",
            "=================================================================\n",
            " conv2d_7 (Conv2D)           (None, 28, 28, 32)        320       \n",
            "                                                                 \n",
            " leaky_re_lu_3 (LeakyReLU)   (None, 28, 28, 32)        0         \n",
            "                                                                 \n",
            " max_pooling2d_3 (MaxPooling  (None, 14, 14, 32)       0         \n",
            " 2D)                                                             \n",
            "                                                                 \n",
            " conv2d_8 (Conv2D)           (None, 14, 14, 64)        18496     \n",
            "                                                                 \n",
            " leaky_re_lu_4 (LeakyReLU)   (None, 14, 14, 64)        0         \n",
            "                                                                 \n",
            " max_pooling2d_4 (MaxPooling  (None, 7, 7, 64)         0         \n",
            " 2D)                                                             \n",
            "                                                                 \n",
            " conv2d_9 (Conv2D)           (None, 7, 7, 128)         73856     \n",
            "                                                                 \n",
            " leaky_re_lu_5 (LeakyReLU)   (None, 7, 7, 128)         0         \n",
            "                                                                 \n",
            " max_pooling2d_5 (MaxPooling  (None, 4, 4, 128)        0         \n",
            " 2D)                                                             \n",
            "                                                                 \n",
            " flatten_1 (Flatten)         (None, 2048)              0         \n",
            "                                                                 \n",
            " dense_1 (Dense)             (None, 128)               262272    \n",
            "                                                                 \n",
            " leaky_re_lu_6 (LeakyReLU)   (None, 128)               0         \n",
            "                                                                 \n",
            " dense_2 (Dense)             (None, 10)                1290      \n",
            "                                                                 \n",
            "=================================================================\n",
            "Total params: 356,234\n",
            "Trainable params: 356,234\n",
            "Non-trainable params: 0\n",
            "_________________________________________________________________\n"
          ]
        }
      ]
    },
    {
      "cell_type": "code",
      "source": [
        "#train\n",
        "train = model.fit(train_X, train_Y, batch_size = batch_size, epochs = epochs, verbose = 1)"
      ],
      "metadata": {
        "colab": {
          "base_uri": "https://localhost:8080/"
        },
        "id": "G1cti5OeDP_I",
        "outputId": "62591527-c993-41e0-ca5a-94b246685af6"
      },
      "execution_count": 24,
      "outputs": [
        {
          "output_type": "stream",
          "name": "stdout",
          "text": [
            "Epoch 1/20\n",
            "938/938 [==============================] - 87s 91ms/step - loss: 0.4337 - accuracy: 0.8432\n",
            "Epoch 2/20\n",
            "938/938 [==============================] - 85s 91ms/step - loss: 0.2745 - accuracy: 0.9010\n",
            "Epoch 3/20\n",
            "938/938 [==============================] - 85s 90ms/step - loss: 0.2286 - accuracy: 0.9155\n",
            "Epoch 4/20\n",
            "938/938 [==============================] - 84s 89ms/step - loss: 0.1974 - accuracy: 0.9273\n",
            "Epoch 5/20\n",
            "938/938 [==============================] - 84s 89ms/step - loss: 0.1702 - accuracy: 0.9385\n",
            "Epoch 6/20\n",
            "938/938 [==============================] - 82s 88ms/step - loss: 0.1501 - accuracy: 0.9449\n",
            "Epoch 7/20\n",
            "938/938 [==============================] - 82s 88ms/step - loss: 0.1302 - accuracy: 0.9509\n",
            "Epoch 8/20\n",
            "938/938 [==============================] - 83s 89ms/step - loss: 0.1111 - accuracy: 0.9589\n",
            "Epoch 9/20\n",
            "938/938 [==============================] - 83s 89ms/step - loss: 0.0940 - accuracy: 0.9649\n",
            "Epoch 10/20\n",
            "938/938 [==============================] - 84s 90ms/step - loss: 0.0813 - accuracy: 0.9688\n",
            "Epoch 11/20\n",
            "938/938 [==============================] - 86s 92ms/step - loss: 0.0711 - accuracy: 0.9735\n",
            "Epoch 12/20\n",
            "938/938 [==============================] - 86s 92ms/step - loss: 0.0612 - accuracy: 0.9775\n",
            "Epoch 13/20\n",
            "938/938 [==============================] - 84s 90ms/step - loss: 0.0529 - accuracy: 0.9800\n",
            "Epoch 14/20\n",
            "938/938 [==============================] - 84s 90ms/step - loss: 0.0490 - accuracy: 0.9817\n",
            "Epoch 15/20\n",
            "938/938 [==============================] - 84s 90ms/step - loss: 0.0411 - accuracy: 0.9842\n",
            "Epoch 16/20\n",
            "938/938 [==============================] - 85s 91ms/step - loss: 0.0381 - accuracy: 0.9858\n",
            "Epoch 17/20\n",
            "938/938 [==============================] - 84s 90ms/step - loss: 0.0357 - accuracy: 0.9867\n",
            "Epoch 18/20\n",
            "938/938 [==============================] - 84s 90ms/step - loss: 0.0370 - accuracy: 0.9865\n",
            "Epoch 19/20\n",
            "938/938 [==============================] - 84s 89ms/step - loss: 0.0275 - accuracy: 0.9895\n",
            "Epoch 20/20\n",
            "938/938 [==============================] - 84s 89ms/step - loss: 0.0317 - accuracy: 0.9881\n"
          ]
        }
      ]
    }
  ]
}